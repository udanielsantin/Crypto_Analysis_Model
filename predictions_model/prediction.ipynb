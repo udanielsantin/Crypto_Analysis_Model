{
 "cells": [
  {
   "cell_type": "code",
   "execution_count": null,
   "id": "f8f15b96",
   "metadata": {},
   "outputs": [],
   "source": [
    "# ======================================================\n",
    "# 1️⃣ Importar bibliotecas\n",
    "# ======================================================\n",
    "import boto3\n",
    "import pandas as pd\n",
    "import numpy as np\n",
    "from sklearn.model_selection import train_test_split\n",
    "from sklearn.ensemble import RandomForestClassifier\n",
    "from sklearn.metrics import accuracy_score, classification_report\n",
    "import joblib\n",
    "import io\n",
    "import os"
   ]
  },
  {
   "cell_type": "code",
   "execution_count": null,
   "id": "94d06fe2",
   "metadata": {},
   "outputs": [],
   "source": [
    "# ======================================================\n",
    "# 2️⃣ Configurar S3\n",
    "# ======================================================\n",
    "s3_bucket = \"binance-websocket-stream-data\"\n",
    "s3_prefix = \"btc-trades/\"  # pasta com os JSONs\n",
    "\n",
    "s3 = boto3.client(\"s3\")"
   ]
  },
  {
   "cell_type": "code",
   "execution_count": null,
   "id": "c864c941",
   "metadata": {},
   "outputs": [],
   "source": [
    "\n",
    "# ======================================================\n",
    "# 3️⃣ Ler todos os arquivos JSON do bucket S3\n",
    "# ======================================================\n",
    "def load_s3_parquet(bucket, prefix):\n",
    "    objs = s3.list_objects_v2(Bucket=bucket, Prefix=prefix)\n",
    "    df_list = []\n",
    "\n",
    "    for obj in objs.get(\"Contents\", []):\n",
    "        key = obj['Key']\n",
    "        if key.endswith(\".parquet\"):\n",
    "            resp = s3.get_object(Bucket=bucket, Key=key)\n",
    "            df = pd.read_parquet(io.BytesIO(resp['Body'].read()))\n",
    "            df_list.append(df)\n",
    "\n",
    "    if df_list:\n",
    "        return pd.concat(df_list, ignore_index=True)\n",
    "    else:\n",
    "        return pd.DataFrame()\n",
    "\n",
    "df = load_s3_parquet(s3_bucket, s3_prefix)"
   ]
  },
  {
   "cell_type": "code",
   "execution_count": null,
   "id": "e6ce0f3f",
   "metadata": {},
   "outputs": [],
   "source": [
    "\n",
    "\n",
    "# ======================================================\n",
    "# 4️⃣ Preparar os dados\n",
    "# ======================================================\n",
    "\n",
    "# Converter datetime\n",
    "df['trade_time'] = pd.to_datetime(df['trade_time'])\n",
    "\n",
    "# Ordenar por tempo\n",
    "df = df.sort_values('trade_time').reset_index(drop=True)\n",
    "\n",
    "# Criar candles de 1 minuto\n",
    "df_candle = df.resample('1T', on='trade_time').agg({\n",
    "    'price':'ohlc',\n",
    "    'quantity':'sum'\n",
    "})\n",
    "\n",
    "df_candle.columns = ['open','high','low','close','volume']\n",
    "\n",
    "# Features técnicas (médias móveis)\n",
    "df_candle['ma_5'] = df_candle['close'].rolling(5).mean()\n",
    "df_candle['ma_10'] = df_candle['close'].rolling(10).mean()\n",
    "df_candle['ma_20'] = df_candle['close'].rolling(20).mean()\n",
    "\n",
    "# Label: 1 se próximo candle sobe, 0 se cai\n",
    "df_candle['target'] = (df_candle['close'].shift(-1) > df_candle['close']).astype(int)\n",
    "\n",
    "# Remover linhas com NaN (início do rolling)\n",
    "df_candle = df_candle.dropna()"
   ]
  },
  {
   "cell_type": "code",
   "execution_count": null,
   "id": "24afcf53",
   "metadata": {},
   "outputs": [],
   "source": [
    "# ======================================================\n",
    "# 5️⃣ Separar treino/teste\n",
    "# ======================================================\n",
    "features = ['open','high','low','close','volume','ma_5','ma_10','ma_20']\n",
    "X = df_candle[features]\n",
    "y = df_candle['target']\n",
    "\n",
    "X_train, X_test, y_train, y_test = train_test_split(X, y, test_size=0.2, shuffle=False)"
   ]
  },
  {
   "cell_type": "code",
   "execution_count": null,
   "id": "7d276319",
   "metadata": {},
   "outputs": [],
   "source": [
    "\n",
    "# ======================================================\n",
    "# 6️⃣ Treinar RandomForestClassifier\n",
    "# ======================================================\n",
    "model = RandomForestClassifier(n_estimators=100, random_state=42)\n",
    "model.fit(X_train, y_train)\n",
    "\n",
    "# Previsão e avaliação\n",
    "y_pred = model.predict(X_test)\n",
    "print(\"Accuracy:\", accuracy_score(y_test, y_pred))\n",
    "print(classification_report(y_test, y_pred))"
   ]
  },
  {
   "cell_type": "code",
   "execution_count": null,
   "id": "46a4be80",
   "metadata": {},
   "outputs": [],
   "source": [
    "# ======================================================\n",
    "# 7️⃣ Salvar modelo no S3\n",
    "# ======================================================\n",
    "model_file = \"binance_movement_model.pkl\"\n",
    "s3.upload_file(model_file, s3_bucket, \"models/binance_movement_model.pkl\")"
   ]
  },
  {
   "cell_type": "code",
   "execution_count": null,
   "id": "a5d77f7f",
   "metadata": {},
   "outputs": [],
   "source": [
    "\n",
    "# ======================================================\n",
    "# 8️⃣ Salvar previsões no S3 para dashboard\n",
    "# ======================================================\n",
    "df_pred = X_test.copy()\n",
    "df_pred['target'] = y_test\n",
    "df_pred['prediction'] = y_pred\n",
    "pred_file = \"predictions.csv\"\n",
    "df_pred.to_csv(pred_file, index=False)\n",
    "\n",
    "s3.upload_file(pred_file, s3_bucket, \"predictions/predictions.csv\")"
   ]
  }
 ],
 "metadata": {
  "language_info": {
   "name": "python"
  }
 },
 "nbformat": 4,
 "nbformat_minor": 5
}
